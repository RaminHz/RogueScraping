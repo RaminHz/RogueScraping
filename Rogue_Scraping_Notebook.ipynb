{
 "cells": [
  {
   "cell_type": "code",
   "execution_count": 1,
   "metadata": {},
   "outputs": [],
   "source": [
    "import requests\n",
    "from bs4 import BeautifulSoup"
   ]
  },
  {
   "cell_type": "code",
   "execution_count": 2,
   "metadata": {},
   "outputs": [],
   "source": [
    "# insert URL extensions of products to be checked for availability\n",
    "urls = ['rogue-20-kg-ohio-power-bar-black-zinc-eu', 'rogue-20-kg-ohio-power-bar-stainless-steel-eu', 'rogue-echo-bumper-plates-with-white-text-eu', 'rogue-color-echo-bumper-plate-eu', 'rogue-olympic-plates-eu']\n",
    "\n",
    "# list all product wrapper IDs of items to be checked on page\n",
    "p_wrap = [['88675'], ['88677'], ['79563', '79565', '79567'], ['65778', '65782'], ['14943', '14945', '24721']]\n",
    "\n",
    "# Bot token and chat ID for sending messages via telegram bot\n",
    "bot_token = #your token\n",
    "bot_chatID = #your chat ID\n",
    "\n",
    "# loop through all URLs and product wrappers to check availability and send a telegram message\n",
    "for u, p in zip(urls, p_wrap):\n",
    "    \n",
    "    page = requests.get('https://www.rogueeurope.eu/{}'.format(u))\n",
    "\n",
    "    soup = BeautifulSoup(page.content, 'html.parser')\n",
    "    \n",
    "    # if multiple products should be scraped from a single page, loop through all product wrappers in list\n",
    "    for i in p:\n",
    "        \n",
    "        # extract the product title from the page\n",
    "        prod = soup.find('h1', {'class': 'product-title'})\n",
    "        \n",
    "        # there are differently weighted plates (e.g. 5KG, 10KG etc.)\n",
    "        # the product text will be displayed in the telegram message later\n",
    "        # for all plates the weight will be added to the title an be found in the div with the class 'item-name'\n",
    "        # for all bars the header 1 text will be sufficient since there are no ambiguities\n",
    "        if 'Plate' in prod.text:\n",
    "            prod_t = soup.find('div', {'class': 'product-purchase-wrapper-{}'.format(i)}).find('div', {'class': 'item-name'}).text\n",
    "        else:\n",
    "            prod_t = prod.text\n",
    "     \n",
    "        # if there is a notify me button displayed on the page, the variable avail will contain a value\n",
    "        # if not it will contain none\n",
    "        avail = soup.find('div', {'class': 'product-purchase-wrapper-{}'.format(i)}).find('button', {'title': 'Notify Me'})  \n",
    "        \n",
    "        t_string = None\n",
    "\n",
    "        # if the avail variable contains none a message will be sent via telegram that the product is available\n",
    "        if avail == t_string:\n",
    "            \n",
    "            send_text = 'https://api.telegram.org/bot' + bot_token + '/sendMessage?chat_id=' + bot_chatID + '&parse_mode=Markdown&text=' + '{} ---> is in stock!!'.format(prod_t)\n",
    "            \n",
    "            response = requests.get(send_text)\n",
    "\n",
    "            response.json()\n",
    "            "
   ]
  },
  {
   "cell_type": "code",
   "execution_count": null,
   "metadata": {},
   "outputs": [],
   "source": []
  }
 ],
 "metadata": {
  "kernelspec": {
   "display_name": "Python 3",
   "language": "python",
   "name": "python3"
  },
  "language_info": {
   "codemirror_mode": {
    "name": "ipython",
    "version": 3
   },
   "file_extension": ".py",
   "mimetype": "text/x-python",
   "name": "python",
   "nbconvert_exporter": "python",
   "pygments_lexer": "ipython3",
   "version": "3.7.4"
  }
 },
 "nbformat": 4,
 "nbformat_minor": 4
}
